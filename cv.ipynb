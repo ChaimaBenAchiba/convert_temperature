{
  "nbformat": 4,
  "nbformat_minor": 0,
  "metadata": {
    "colab": {
      "provenance": [],
      "toc_visible": true,
      "authorship_tag": "ABX9TyMdo5iuDKu/ug1G+zM+WxV8",
      "include_colab_link": true
    },
    "kernelspec": {
      "name": "python3",
      "display_name": "Python 3"
    },
    "language_info": {
      "name": "python"
    }
  },
  "cells": [
    {
      "cell_type": "markdown",
      "metadata": {
        "id": "view-in-github",
        "colab_type": "text"
      },
      "source": [
        "<a href=\"https://colab.research.google.com/github/ChaimaBenAchiba/convert_temperature/blob/main/untitled1.ipynb\" target=\"_parent\"><img src=\"https://colab.research.google.com/assets/colab-badge.svg\" alt=\"Open In Colab\"/></a>"
      ]
    },
    {
      "cell_type": "code",
      "execution_count": null,
      "metadata": {
        "colab": {
          "base_uri": "https://localhost:8080/"
        },
        "id": "cGzcdrfGwp3d",
        "outputId": "17f7c801-f9af-437a-c5f7-c7f1411b039c"
      },
      "outputs": [
        {
          "output_type": "stream",
          "name": "stdout",
          "text": [
            "Select language (en for English, fr for French): fr\n",
            "Entrez la valeur de la température : 50\n",
            "Entrez l'unité de mesure (C pour Celsius, F pour Fahrenheit, K pour Kelvin) : K\n",
            "50.0K est -223.15°C et -369.67°F\n"
          ]
        }
      ],
      "source": [
        "def celsius_to_fahrenheit(celsius):\n",
        "    return (celsius * 9/5) + 32\n",
        "\n",
        "def celsius_to_kelvin(celsius):\n",
        "    return celsius + 273.15\n",
        "\n",
        "def fahrenheit_to_celsius(fahrenheit):\n",
        "    return (fahrenheit - 32) * 5/9\n",
        "\n",
        "def fahrenheit_to_kelvin(fahrenheit):\n",
        "    return (fahrenheit - 32) * 5/9 + 273.15\n",
        "\n",
        "def kelvin_to_celsius(kelvin):\n",
        "    return kelvin - 273.15\n",
        "\n",
        "def kelvin_to_fahrenheit(kelvin):\n",
        "    return (kelvin - 273.15) * 9/5 + 32\n",
        "\n",
        "def convert_temperature(value, unit, language):\n",
        "    if unit.lower() == 'c':\n",
        "        fahrenheit = celsius_to_fahrenheit(value)\n",
        "        kelvin = celsius_to_kelvin(value)\n",
        "        if language == 'en':\n",
        "            return f\"{value}°C is {fahrenheit:.2f}°F and {kelvin:.2f}K\"\n",
        "        else:\n",
        "            return f\"{value}°C est {fahrenheit:.2f}°F et {kelvin:.2f}K\"\n",
        "    elif unit.lower() == 'f':\n",
        "        celsius = fahrenheit_to_celsius(value)\n",
        "        kelvin = fahrenheit_to_kelvin(value)\n",
        "        if language == 'en':\n",
        "            return f\"{value}°F is {celsius:.2f}°C and {kelvin:.2f}K\"\n",
        "        else:\n",
        "            return f\"{value}°F est {celsius:.2f}°C et {kelvin:.2f}K\"\n",
        "    elif unit.lower() == 'k':\n",
        "        celsius = kelvin_to_celsius(value)\n",
        "        fahrenheit = kelvin_to_fahrenheit(value)\n",
        "        if language == 'en':\n",
        "            return f\"{value}K is {celsius:.2f}°C and {fahrenheit:.2f}°F\"\n",
        "        else:\n",
        "            return f\"{value}K est {celsius:.2f}°C et {fahrenheit:.2f}°F\"\n",
        "    else:\n",
        "        if language == 'en':\n",
        "            return \"Invalid unit of measurement. Please use 'C', 'F', or 'K'.\"\n",
        "        else:\n",
        "            return \"Unité de mesure invalide. Veuillez utiliser 'C', 'F' ou 'K'.\"\n",
        "\n",
        "def main():\n",
        "    language = input(\"Select language (en for English, fr for French): \").lower()\n",
        "    if language not in ['en', 'fr']:\n",
        "        print(\"Invalid language selection.\")\n",
        "        return\n",
        "\n",
        "    try:\n",
        "        value = float(input(\"Enter the temperature value: \" if language == 'en' else \"Entrez la valeur de la température : \"))\n",
        "        unit = input(\"Enter the unit of measurement (C for Celsius, F for Fahrenheit, K for Kelvin): \" if language == 'en' else \"Entrez l'unité de mesure (C pour Celsius, F pour Fahrenheit, K pour Kelvin) : \")\n",
        "        result = convert_temperature(value, unit, language)\n",
        "        print(result)\n",
        "    except ValueError:\n",
        "        if language == 'en':\n",
        "            print(\"Invalid input. Please enter a numeric temperature value.\")\n",
        "        else:\n",
        "            print(\"Entrée invalide. Veuillez entrer une valeur de température numérique.\")\n",
        "\n",
        "if __name__ == \"__main__\":\n",
        "    main()"
      ]
    }
  ]
}
